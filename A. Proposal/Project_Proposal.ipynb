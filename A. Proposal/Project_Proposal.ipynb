{
 "cells": [
  {
   "cell_type": "markdown",
   "metadata": {
    "id": "2dE4HQO4aNeZ"
   },
   "source": [
    "# Project Proposal\n",
    "> Trinity Pittman    \n",
    "> Statistical Machine Learning    "
   ]
  },
  {
   "cell_type": "markdown",
   "metadata": {
    "id": "SxsPn1geBIPI"
   },
   "source": [
    "In this project I will use the `Panda or Bear Image Classification` dataset to do binary classification of pandas vs bears. After doing some research I have found the *Convolutional Neural Networks (CNN)* would likely be the best option for this for several reasons including:\n",
    "- automatic feature extraction\n",
    "- high accuracy in image classification tasks\n",
    "- robust to variation\n",
    "- simplicity\n",
    "\n",
    "\n",
    "But, I may also try to implement a *Support Vector Machine (SVM)* to compare to a CNN and determine which classifies the images most accurately with the best performance. SVM's can be very effective for simpler image classification tasks (like binary classification) but they do not have automatic feature extraction and will require more careful engineering.\n",
    "\n",
    "\n",
    "\n",
    "Here is the link to the dataset I will be using: https://www.kaggle.com/datasets/mattop/panda-or-bear-image-classification/data\n",
    "\n",
    "\n",
    "**Goal:** Determine the deep learning model best suited for binary image classification."
   ]
  }
 ],
 "metadata": {
  "colab": {
   "provenance": []
  },
  "kernelspec": {
   "display_name": "Python 3",
   "name": "python3"
  },
  "language_info": {
   "name": "python"
  }
 },
 "nbformat": 4,
 "nbformat_minor": 0
}
